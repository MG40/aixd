{
 "cells": [
  {
   "cell_type": "code",
   "execution_count": null,
   "metadata": {},
   "outputs": [],
   "source": [
    "import numpy as np\n",
    "def predict(data, rows=1000):\n",
    "    split_array = np.array_split(data, int(data.shape[0] / float(rows) + 1))\n",
    "    predictions = ''\n",
    "    for array in split_array:\n",
    "        predictions = ','.join([predictions, xgb_predictor.predict(array).decode('utf-8')])\n",
    "    return np.fromstring(predictions[1:], sep=',')"
   ]
  },
  {
   "cell_type": "code",
   "execution_count": null,
   "metadata": {},
   "outputs": [],
   "source": [
    "import matplotlib.pyplot as plt\n",
    "\n",
    "predictions=predict(test.to_numpy()[:,1:])\n",
    "plt.hist(predictions)\n",
    "plt.show()"
   ]
  },
  {
   "cell_type": "code",
   "execution_count": null,
   "metadata": {},
   "outputs": [],
   "source": [
    "import sklearn\n",
    "\n",
    "cutoff=0.5\n",
    "print(sklearn.metrics.confusion_matrix(test.iloc[:, 0], np.where(predictions > cutoff, 1, 0)))\n",
    "print(sklearn.metrics.classification_report(test.iloc[:, 0], np.where(predictions > cutoff, 1, 0)))"
   ]
  },
  {
   "cell_type": "code",
   "execution_count": null,
   "metadata": {},
   "outputs": [],
   "source": [
    "import matplotlib.pyplot as plt\n",
    "\n",
    "cutoffs = np.arange(0.01, 1, 0.01)\n",
    "log_loss = []\n",
    "for c in cutoffs:\n",
    "    log_loss.append(\n",
    "        sklearn.metrics.log_loss(test.iloc[:, 0], np.where(predictions > c, 1, 0))\n",
    "    )\n",
    "\n",
    "plt.figure(figsize=(15,10))\n",
    "plt.plot(cutoffs, log_loss)\n",
    "plt.xlabel(\"Cutoff\")\n",
    "plt.ylabel(\"Log loss\")\n",
    "plt.show()"
   ]
  },
  {
   "cell_type": "code",
   "execution_count": null,
   "metadata": {},
   "outputs": [],
   "source": [
    "print(\n",
    "    'Log loss is minimized at a cutoff of ', cutoffs[np.argmin(log_loss)], \n",
    "    ', and the log loss value at the minimum is ', np.min(log_loss)\n",
    ")"
   ]
  }
 ],
 "metadata": {
  "language_info": {
   "name": "python"
  }
 },
 "nbformat": 4,
 "nbformat_minor": 2
}
